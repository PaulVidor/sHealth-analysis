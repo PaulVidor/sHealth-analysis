{
 "cells": [
  {
   "cell_type": "code",
   "execution_count": 7,
   "metadata": {
    "pycharm": {
     "name": "#%%\n"
    },
    "scrolled": true
   },
   "outputs": [],
   "source": [
    "from main import Shealth"
   ]
  },
  {
   "cell_type": "code",
   "execution_count": 8,
   "metadata": {
    "pycharm": {
     "name": "#%%\n"
    }
   },
   "outputs": [],
   "source": [
    "shealth = Shealth()"
   ]
  },
  {
   "cell_type": "code",
   "execution_count": 9,
   "metadata": {
    "pycharm": {
     "name": "#%%\n"
    }
   },
   "outputs": [
    {
     "data": {
      "text/plain": "           day       date  weight    steps  walk_duration  sport_duration  \\\n0       Friday 2015-03-06    68.0   6178.0             70               6   \n1       Monday 2015-04-06    69.0   8342.0             72              11   \n2    Wednesday 2015-05-06    69.0  10048.0             91              40   \n3     Saturday 2015-06-06    69.0   6593.0             55               0   \n4       Monday 2015-07-06    69.0   1417.0             12               0   \n..         ...        ...     ...      ...            ...             ...   \n604     Friday 2017-01-27    71.0   4988.0             45               0   \n605   Saturday 2017-01-28    71.0   8839.0             83               1   \n606     Sunday 2017-01-29    71.0    823.0              7               0   \n607     Monday 2017-01-30    71.0   5099.0             46               0   \n608    Tuesday 2017-01-31    71.0   9705.0             86               2   \n\n     spent_energy  country_number  \n0             354              33  \n1             465              33  \n2             722              33  \n3             270              33  \n4              71              33  \n..            ...             ...  \n604           219              33  \n605           363              33  \n606            33              33  \n607           209              33  \n608           423              33  \n\n[609 rows x 8 columns]",
      "text/html": "<div>\n<style scoped>\n    .dataframe tbody tr th:only-of-type {\n        vertical-align: middle;\n    }\n\n    .dataframe tbody tr th {\n        vertical-align: top;\n    }\n\n    .dataframe thead th {\n        text-align: right;\n    }\n</style>\n<table border=\"1\" class=\"dataframe\">\n  <thead>\n    <tr style=\"text-align: right;\">\n      <th></th>\n      <th>day</th>\n      <th>date</th>\n      <th>weight</th>\n      <th>steps</th>\n      <th>walk_duration</th>\n      <th>sport_duration</th>\n      <th>spent_energy</th>\n      <th>country_number</th>\n    </tr>\n  </thead>\n  <tbody>\n    <tr>\n      <th>0</th>\n      <td>Friday</td>\n      <td>2015-03-06</td>\n      <td>68.0</td>\n      <td>6178.0</td>\n      <td>70</td>\n      <td>6</td>\n      <td>354</td>\n      <td>33</td>\n    </tr>\n    <tr>\n      <th>1</th>\n      <td>Monday</td>\n      <td>2015-04-06</td>\n      <td>69.0</td>\n      <td>8342.0</td>\n      <td>72</td>\n      <td>11</td>\n      <td>465</td>\n      <td>33</td>\n    </tr>\n    <tr>\n      <th>2</th>\n      <td>Wednesday</td>\n      <td>2015-05-06</td>\n      <td>69.0</td>\n      <td>10048.0</td>\n      <td>91</td>\n      <td>40</td>\n      <td>722</td>\n      <td>33</td>\n    </tr>\n    <tr>\n      <th>3</th>\n      <td>Saturday</td>\n      <td>2015-06-06</td>\n      <td>69.0</td>\n      <td>6593.0</td>\n      <td>55</td>\n      <td>0</td>\n      <td>270</td>\n      <td>33</td>\n    </tr>\n    <tr>\n      <th>4</th>\n      <td>Monday</td>\n      <td>2015-07-06</td>\n      <td>69.0</td>\n      <td>1417.0</td>\n      <td>12</td>\n      <td>0</td>\n      <td>71</td>\n      <td>33</td>\n    </tr>\n    <tr>\n      <th>...</th>\n      <td>...</td>\n      <td>...</td>\n      <td>...</td>\n      <td>...</td>\n      <td>...</td>\n      <td>...</td>\n      <td>...</td>\n      <td>...</td>\n    </tr>\n    <tr>\n      <th>604</th>\n      <td>Friday</td>\n      <td>2017-01-27</td>\n      <td>71.0</td>\n      <td>4988.0</td>\n      <td>45</td>\n      <td>0</td>\n      <td>219</td>\n      <td>33</td>\n    </tr>\n    <tr>\n      <th>605</th>\n      <td>Saturday</td>\n      <td>2017-01-28</td>\n      <td>71.0</td>\n      <td>8839.0</td>\n      <td>83</td>\n      <td>1</td>\n      <td>363</td>\n      <td>33</td>\n    </tr>\n    <tr>\n      <th>606</th>\n      <td>Sunday</td>\n      <td>2017-01-29</td>\n      <td>71.0</td>\n      <td>823.0</td>\n      <td>7</td>\n      <td>0</td>\n      <td>33</td>\n      <td>33</td>\n    </tr>\n    <tr>\n      <th>607</th>\n      <td>Monday</td>\n      <td>2017-01-30</td>\n      <td>71.0</td>\n      <td>5099.0</td>\n      <td>46</td>\n      <td>0</td>\n      <td>209</td>\n      <td>33</td>\n    </tr>\n    <tr>\n      <th>608</th>\n      <td>Tuesday</td>\n      <td>2017-01-31</td>\n      <td>71.0</td>\n      <td>9705.0</td>\n      <td>86</td>\n      <td>2</td>\n      <td>423</td>\n      <td>33</td>\n    </tr>\n  </tbody>\n</table>\n<p>609 rows × 8 columns</p>\n</div>"
     },
     "execution_count": 9,
     "metadata": {},
     "output_type": "execute_result"
    }
   ],
   "source": [
    "shealth.data_set"
   ]
  },
  {
   "cell_type": "code",
   "execution_count": 10,
   "metadata": {
    "pycharm": {
     "name": "#%%\n"
    }
   },
   "outputs": [
    {
     "data": {
      "text/plain": "           weight          steps  walk_duration  sport_duration  spent_energy  \\\ncount  609.000000     609.000000     609.000000      609.000000    609.000000   \nmean    70.568144    7943.587849      72.852217        4.464696    367.402299   \nstd      1.022302    6152.609571      46.101196       13.091875    233.496480   \nmin     68.000000       7.000000       1.000000        0.000000      4.000000   \n25%     70.000000    5250.000000      48.000000        0.000000    232.000000   \n50%     71.000000    7691.000000      69.000000        0.000000    343.000000   \n75%     71.000000   10181.000000      94.000000        1.000000    477.000000   \nmax     73.000000  107222.000000     271.000000      113.000000   1393.000000   \n\n       country_number  \ncount      609.000000  \nmean        43.796388  \nstd         58.218208  \nmin         32.000000  \n25%         33.000000  \n50%         33.000000  \n75%         33.000000  \nmax        974.000000  ",
      "text/html": "<div>\n<style scoped>\n    .dataframe tbody tr th:only-of-type {\n        vertical-align: middle;\n    }\n\n    .dataframe tbody tr th {\n        vertical-align: top;\n    }\n\n    .dataframe thead th {\n        text-align: right;\n    }\n</style>\n<table border=\"1\" class=\"dataframe\">\n  <thead>\n    <tr style=\"text-align: right;\">\n      <th></th>\n      <th>weight</th>\n      <th>steps</th>\n      <th>walk_duration</th>\n      <th>sport_duration</th>\n      <th>spent_energy</th>\n      <th>country_number</th>\n    </tr>\n  </thead>\n  <tbody>\n    <tr>\n      <th>count</th>\n      <td>609.000000</td>\n      <td>609.000000</td>\n      <td>609.000000</td>\n      <td>609.000000</td>\n      <td>609.000000</td>\n      <td>609.000000</td>\n    </tr>\n    <tr>\n      <th>mean</th>\n      <td>70.568144</td>\n      <td>7943.587849</td>\n      <td>72.852217</td>\n      <td>4.464696</td>\n      <td>367.402299</td>\n      <td>43.796388</td>\n    </tr>\n    <tr>\n      <th>std</th>\n      <td>1.022302</td>\n      <td>6152.609571</td>\n      <td>46.101196</td>\n      <td>13.091875</td>\n      <td>233.496480</td>\n      <td>58.218208</td>\n    </tr>\n    <tr>\n      <th>min</th>\n      <td>68.000000</td>\n      <td>7.000000</td>\n      <td>1.000000</td>\n      <td>0.000000</td>\n      <td>4.000000</td>\n      <td>32.000000</td>\n    </tr>\n    <tr>\n      <th>25%</th>\n      <td>70.000000</td>\n      <td>5250.000000</td>\n      <td>48.000000</td>\n      <td>0.000000</td>\n      <td>232.000000</td>\n      <td>33.000000</td>\n    </tr>\n    <tr>\n      <th>50%</th>\n      <td>71.000000</td>\n      <td>7691.000000</td>\n      <td>69.000000</td>\n      <td>0.000000</td>\n      <td>343.000000</td>\n      <td>33.000000</td>\n    </tr>\n    <tr>\n      <th>75%</th>\n      <td>71.000000</td>\n      <td>10181.000000</td>\n      <td>94.000000</td>\n      <td>1.000000</td>\n      <td>477.000000</td>\n      <td>33.000000</td>\n    </tr>\n    <tr>\n      <th>max</th>\n      <td>73.000000</td>\n      <td>107222.000000</td>\n      <td>271.000000</td>\n      <td>113.000000</td>\n      <td>1393.000000</td>\n      <td>974.000000</td>\n    </tr>\n  </tbody>\n</table>\n</div>"
     },
     "execution_count": 10,
     "metadata": {},
     "output_type": "execute_result"
    }
   ],
   "source": [
    "shealth.data_set_description"
   ]
  },
  {
   "cell_type": "code",
   "execution_count": 11,
   "metadata": {
    "pycharm": {
     "name": "#%%\n"
    }
   },
   "outputs": [
    {
     "data": {
      "text/plain": "                  weight     steps  walk_duration  sport_duration  \\\nweight          1.000000 -0.007619       0.055493       -0.094721   \nsteps          -0.007619  1.000000       0.712138        0.074365   \nwalk_duration   0.055493  0.712138       1.000000        0.064996   \nsport_duration -0.094721  0.074365       0.064996        1.000000   \nspent_energy    0.002176  0.645958       0.882367        0.509720   \ncountry_number -0.021626  0.034389       0.072548        0.014921   \n\n                spent_energy  country_number  \nweight              0.002176       -0.021626  \nsteps               0.645958        0.034389  \nwalk_duration       0.882367        0.072548  \nsport_duration      0.509720        0.014921  \nspent_energy        1.000000        0.051996  \ncountry_number      0.051996        1.000000  ",
      "text/html": "<div>\n<style scoped>\n    .dataframe tbody tr th:only-of-type {\n        vertical-align: middle;\n    }\n\n    .dataframe tbody tr th {\n        vertical-align: top;\n    }\n\n    .dataframe thead th {\n        text-align: right;\n    }\n</style>\n<table border=\"1\" class=\"dataframe\">\n  <thead>\n    <tr style=\"text-align: right;\">\n      <th></th>\n      <th>weight</th>\n      <th>steps</th>\n      <th>walk_duration</th>\n      <th>sport_duration</th>\n      <th>spent_energy</th>\n      <th>country_number</th>\n    </tr>\n  </thead>\n  <tbody>\n    <tr>\n      <th>weight</th>\n      <td>1.000000</td>\n      <td>-0.007619</td>\n      <td>0.055493</td>\n      <td>-0.094721</td>\n      <td>0.002176</td>\n      <td>-0.021626</td>\n    </tr>\n    <tr>\n      <th>steps</th>\n      <td>-0.007619</td>\n      <td>1.000000</td>\n      <td>0.712138</td>\n      <td>0.074365</td>\n      <td>0.645958</td>\n      <td>0.034389</td>\n    </tr>\n    <tr>\n      <th>walk_duration</th>\n      <td>0.055493</td>\n      <td>0.712138</td>\n      <td>1.000000</td>\n      <td>0.064996</td>\n      <td>0.882367</td>\n      <td>0.072548</td>\n    </tr>\n    <tr>\n      <th>sport_duration</th>\n      <td>-0.094721</td>\n      <td>0.074365</td>\n      <td>0.064996</td>\n      <td>1.000000</td>\n      <td>0.509720</td>\n      <td>0.014921</td>\n    </tr>\n    <tr>\n      <th>spent_energy</th>\n      <td>0.002176</td>\n      <td>0.645958</td>\n      <td>0.882367</td>\n      <td>0.509720</td>\n      <td>1.000000</td>\n      <td>0.051996</td>\n    </tr>\n    <tr>\n      <th>country_number</th>\n      <td>-0.021626</td>\n      <td>0.034389</td>\n      <td>0.072548</td>\n      <td>0.014921</td>\n      <td>0.051996</td>\n      <td>1.000000</td>\n    </tr>\n  </tbody>\n</table>\n</div>"
     },
     "execution_count": 11,
     "metadata": {},
     "output_type": "execute_result"
    }
   ],
   "source": [
    "shealth.correlation"
   ]
  },
  {
   "cell_type": "code",
   "execution_count": 12,
   "metadata": {
    "pycharm": {
     "name": "#%%\n"
    }
   },
   "outputs": [
    {
     "name": "stdout",
     "output_type": "stream",
     "text": [
      "weight : steps : [-0.08701772737005448, 0.7930579730148876]\n",
      "weight : walk_duration : [-0.024064823154658445, 0.7930579730148876]\n",
      "weight : sport_duration : [-0.17287221102037487, 0.7930579730148876]\n",
      "weight : spent_energy : [-0.07728912025039905, 0.7930579730148876]\n",
      "weight : country_number : [-0.10090407693849443, 0.7930579730148876]\n",
      "steps : weight : [-0.08701772737005448, 0.7930579730148876]\n",
      "steps : walk_duration : [0.6706314797997768, 0.7930579730148876]\n",
      "steps : sport_duration : [-0.005116874681849462, 0.7930579730148876]\n",
      "steps : spent_energy : [0.597153969035157, 0.7930579730148876]\n",
      "steps : country_number : [-0.04518627228567118, 0.7930579730148876]\n",
      "walk_duration : weight : [-0.024064823154658445, 0.7930579730148876]\n",
      "walk_duration : steps : [0.6706314797997768, 0.7930579730148876]\n",
      "walk_duration : sport_duration : [-0.01453090963680786, 0.7930579730148876]\n",
      "walk_duration : spent_energy : [0.7930579730148876, 0.8634481874023089]\n",
      "walk_duration : country_number : [-0.006943913956762186, 0.7930579730148876]\n",
      "sport_duration : weight : [-0.17287221102037487, 0.7930579730148876]\n",
      "sport_duration : steps : [-0.005116874681849462, 0.7930579730148876]\n",
      "sport_duration : walk_duration : [-0.01453090963680786, 0.7930579730148876]\n",
      "sport_duration : spent_energy : [0.44842874958456014, 0.7930579730148876]\n",
      "sport_duration : country_number : [-0.0646071169307661, 0.7930579730148876]\n",
      "spent_energy : weight : [-0.07728912025039905, 0.7930579730148876]\n",
      "spent_energy : steps : [0.597153969035157, 0.7930579730148876]\n",
      "spent_energy : walk_duration : [0.7930579730148876, 0.8634481874023089]\n",
      "spent_energy : sport_duration : [0.44842874958456014, 0.7930579730148876]\n",
      "spent_energy : country_number : [-0.027570113456205626, 0.7930579730148876]\n",
      "country_number : weight : [-0.10090407693849443, 0.7930579730148876]\n",
      "country_number : steps : [-0.04518627228567118, 0.7930579730148876]\n",
      "country_number : walk_duration : [-0.006943913956762186, 0.7930579730148876]\n",
      "country_number : sport_duration : [-0.0646071169307661, 0.7930579730148876]\n",
      "country_number : spent_energy : [-0.027570113456205626, 0.7930579730148876]\n"
     ]
    }
   ],
   "source": [
    "shealth.display_correlation_confidence_interval()"
   ]
  },
  {
   "cell_type": "code",
   "execution_count": 12,
   "metadata": {
    "pycharm": {
     "name": "#%%\n"
    }
   },
   "outputs": [],
   "source": []
  }
 ],
 "metadata": {
  "kernelspec": {
   "display_name": "Python 3 (ipykernel)",
   "language": "python",
   "name": "python3"
  },
  "language_info": {
   "codemirror_mode": {
    "name": "ipython",
    "version": 3
   },
   "file_extension": ".py",
   "mimetype": "text/x-python",
   "name": "python",
   "nbconvert_exporter": "python",
   "pygments_lexer": "ipython3",
   "version": "3.10.0"
  }
 },
 "nbformat": 4,
 "nbformat_minor": 1
}